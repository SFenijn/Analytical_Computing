{
 "cells": [
  {
   "cell_type": "markdown",
   "metadata": {},
   "source": [
    "## Oplossen van magische vierkanten met alleen integers"
   ]
  },
  {
   "cell_type": "markdown",
   "metadata": {},
   "source": [
    "Bron: https://pdfs.semanticscholar.org/e5a8/46cf1434bc1c9942fd97ce10f71d0c73b4c8.pdf"
   ]
  },
  {
   "cell_type": "markdown",
   "metadata": {},
   "source": [
    "Om een magisch vierkant goed te kunnen oplossen moeten we er naar kijken als een stelsel vergelijken in matrix vorm. \n",
    "$A \\vec{x} = \\vec{b}$\n",
    "\n",
    "Magische vierkant zijn vierkanten bestaande uit getallen waarbij de sommen van de getallen op de rijen, kolommen en diagonalen allemaal hetzelfde is, bijvoorbeeld:"
   ]
  },
  {
   "cell_type": "markdown",
   "metadata": {},
   "source": [
    "\\begin{array}{|c|c|c|}\n",
    "\\hline\n",
    "8 & 3 & 4 \\\\ \\hline\n",
    "1 & 5 & 9 \\\\ \\hline\n",
    "6 & 7 & 2 \\\\ \\hline\n",
    "\\end{array}"
   ]
  },
  {
   "cell_type": "markdown",
   "metadata": {},
   "source": [
    "| 8 \t| 3 \t| 4 \t|\n",
    "|---\t|---\t|---\t|\n",
    "| 1 \t| 5 \t| 9 \t|\n",
    "| 6 \t| 1 \t| 2 \t|"
   ]
  },
  {
   "cell_type": "markdown",
   "metadata": {},
   "source": [
    "Hierbij is de som van alle rijen, kolommen en diagonalen gelijk aan 15.\n",
    "\n",
    "Om uit te leggen hoe je een magische vierkant kan oplossen neem ik het magische vierkant hierboven en laat de meeste waarden weg. Ook gaan we er hier vanuit dat we niet weten dat de som van alle rijen, kolommen en diagonalen 15 is, die word vanaf nu y."
   ]
  },
  {
   "cell_type": "markdown",
   "metadata": {},
   "source": [
    "\\begin{array}{|c|c|c|}\n",
    "\\hline\n",
    "8 & ~~ & ~~ \\\\ \\hline\n",
    "~~ & ~~ & 9 \\\\ \\hline\n",
    "~~ & ~~ & 2 \\\\ \\hline\n",
    "\\end{array}"
   ]
  },
  {
   "cell_type": "markdown",
   "metadata": {},
   "source": [
    "Eerst gaan we alles in een formule zetten, waarbij de pozities van de in matrix worden aangeduid met X1 tot en met X9 (dit kan varieren met de grote van het magische vierkant).\n",
    "in het geval van het bovenstaande magische vierkant is $X1 = 8$, $X6 = 9$ en $X9 = 2$.\n",
    "\n",
    "De vergelijkingen zijn gemaakt aan de hand van de al eerder genoemde formule $A \\vec{x} = \\vec{b}$.\n",
    "\n",
    "Je moet de vergelijkingen dan ook eigenlijk zien niet als: $$8 + X2 + X3 = y$$ herschreven als: $$X2 + X3 -y = -8$$"
   ]
  },
  {
   "cell_type": "markdown",
   "metadata": {},
   "source": [
    "Maar als:\n",
    "$$1*8 + 1*X2 + 1*X3 = 0*X4 + 0*X5 + 0*X6 + 0*X7 + 0*X8 + 0*X9 = y$$ \n",
    "\n",
    "Dit kan je ook duidelijk terug zien als alle vergelijkingen in matrix row-echelon vorm zijn opgeschreven."
   ]
  },
  {
   "cell_type": "markdown",
   "metadata": {},
   "source": [
    "herschreven als:"
   ]
  },
  {
   "cell_type": "markdown",
   "metadata": {},
   "source": [
    "$$0*X1 + 1*X2 + 1*X3 + 0*X4 + 0*X5 + 0*X6 + 0*X7 + 0*X8 + 0*X9 + 1*-y = -8$$"
   ]
  },
  {
   "cell_type": "markdown",
   "metadata": {},
   "source": [
    "We kunnen nu de volgende acht vergelijkingen maken:\n",
    "\n",
    "Voor de rijen:"
   ]
  },
  {
   "cell_type": "markdown",
   "metadata": {},
   "source": [
    "$$8 + X2 + X3 = y$$\n",
    "$$X4 + X5 +  9 = y$$\n",
    "$$X7 + X8 +  2 = y$$"
   ]
  },
  {
   "cell_type": "markdown",
   "metadata": {},
   "source": [
    "Voor de kolommen:\n",
    "$$8 + X4 + X7 = y$$\n",
    "$$X2 + X5 + X8 = y$$\n",
    "$$X3 +  9 +  2 = y$$"
   ]
  },
  {
   "cell_type": "markdown",
   "metadata": {},
   "source": [
    "Voor de diagonalen:\n",
    "$$8 + X5 +  2 = y$$\n",
    "$$X7 + X5 + X3 = y$$"
   ]
  },
  {
   "cell_type": "markdown",
   "metadata": {},
   "source": [
    "Herschreven:"
   ]
  },
  {
   "cell_type": "markdown",
   "metadata": {},
   "source": [
    "Voor de rijen:\n",
    "$$X2 + X3 -y = -8$$\n",
    "$$X4 + X5 -y = -9$$\n",
    "$$X7 + X8 -y = -2$$"
   ]
  },
  {
   "cell_type": "markdown",
   "metadata": {},
   "source": [
    "Voor de kolommen:\n",
    "$$X4 + X7 -y = -8$$\n",
    "$$X2 + X5 + X8 -y = 0$$\n",
    "$$X3 -y = -11$$"
   ]
  },
  {
   "cell_type": "markdown",
   "metadata": {},
   "source": [
    "Voor de diagonalen:\n",
    "$$X5 -y = -10$$\n",
    "$$X7 + X5 + X3 -y = 0$$"
   ]
  },
  {
   "cell_type": "markdown",
   "metadata": {},
   "source": [
    "Nadat we de vergelijking hebben gemaakt en herschreven kunnen we de augmented matrix maken, daarin zetten we ook de vergelijkingen voor de varibelen die we al gegeven hebben. Ook kunnen we de vergelijking $3*X5 -y = 0$ er in zetten omdat het middelste vak keer drie ook altijd de juist som geeft. Nu kan het magische vierkant worden opgelost."
   ]
  },
  {
   "cell_type": "markdown",
   "metadata": {},
   "source": [
    "\\begin{equation}\n",
    "  \\begin{bmatrix}\n",
    "1 & 0 & 0 & 0 & 0 & 0 & 0 & 0 & 0 &  0 & | & 8\\\\\n",
    "0 & 0 & 0 & 1 & 1 & 0 & 0 & 0 & 0 & -1 & | &-9\\\\\n",
    "0 & 0 & 0 & 0 & 0 & 0 & 1 & 1 & 0 & -1 & | &-2\\\\\n",
    "0 & 0 & 0 & 1 & 0 & 0 & 1 & 0 & 0 & -1 & | &-8\\\\\n",
    "0 & 1 & 0 & 0 & 1 & 0 & 0 & 1 & 0 & -1 & | & 0\\\\\n",
    "0 & 0 & 0 & 0 & 0 & 1 & 0 & 0 & 0 &  0 & | & 9\\\\\n",
    "0 & 0 & 0 & 0 & 1 & 0 & 0 & 0 & 0 & -1 & | &-10\\\\\n",
    "0 & 0 & 1 & 0 & 1 & 0 & 1 & 0 & 0 & -1 & | & 0\\\\\n",
    "0 & 0 & 0 & 0 & 0 & 0 & 0 & 0 & 1 &  0 & | & 2\\\\\n",
    "0 & 0 & 0 & 0 & 3 & 0 & 0 & 0 & 0 & -1 & | & 0\\\\\n",
    "  \\end{bmatrix}\n",
    "  \\label{eq:aeqn}\n",
    "\\end{equation}"
   ]
  },
  {
   "cell_type": "markdown",
   "metadata": {},
   "source": [
    "Nu alles in matrix row-echelon vorm is opgeschreven gaan we eerst de rijen op een andere volgorde zetten om alles efficiënter te kunnen berekenen."
   ]
  },
  {
   "cell_type": "markdown",
   "metadata": {},
   "source": [
    "$\\\\R5 \\rightarrow R2\n",
    "\\\\R8 \\rightarrow R3 \n",
    "\\\\R2 \\rightarrow R4\n",
    "\\\\R7 \\rightarrow R5\n",
    "\\\\R4 \\rightarrow R7\n",
    "\\\\R3 \\rightarrow R8$"
   ]
  },
  {
   "cell_type": "markdown",
   "metadata": {},
   "source": [
    "\\begin{equation}\n",
    "  \\begin{bmatrix}\n",
    "1 & 0 & 0 & 0 & 0 & 0 & 0 & 0 & 0 &  0 & | & 8\\\\\n",
    "0 & 1 & 0 & 0 & 1 & 0 & 0 & 1 & 0 & -1 &| &  0\\\\\n",
    "0 & 0 & 1 & 0 & 1 & 0 & 1 & 0 & 0 & -1 &  | &0\\\\\n",
    "0 & 0 & 0 & 1 & 1 & 0 & 0 & 0 & 0 & -1 & | &-9\\\\\n",
    "0 & 0 & 0 & 0 & 1 & 0 & 0 & 0 & 0 & -1 & | &-10\\\\\n",
    "0 & 0 & 0 & 0 & 0 & 1 & 0 & 0 & 0 &  0 &  | &9\\\\\n",
    "0 & 0 & 0 & 1 & 0 & 0 & 1 & 0 & 0 & -1 & | &-8\\\\\n",
    "0 & 0 & 0 & 0 & 0 & 0 & 1 & 1 & 0 & -1 & | &-2\\\\\n",
    "0 & 0 & 0 & 0 & 0 & 0 & 0 & 0 & 1 &  0 &  | &2\\\\\n",
    "0 & 0 & 0 & 0 & 3 & 0 & 0 & 0 & 0 & -1 &  | &0\\\\\n",
    "  \\end{bmatrix}\n",
    "  \\label{eq:aeqn}\n",
    "\\end{equation}"
   ]
  },
  {
   "cell_type": "markdown",
   "metadata": {},
   "source": [
    "Nu de rijen op een ander volgorde zijn gezet is het al een stuk duidelijker. We gaan verder met row operations tot er maar éém 1 in een rij is en er onder elke 1 geen andere 1 staat."
   ]
  },
  {
   "cell_type": "markdown",
   "metadata": {},
   "source": [
    "$R4 - R5 \\rightarrow R4$"
   ]
  },
  {
   "cell_type": "markdown",
   "metadata": {},
   "source": [
    "\\begin{equation}\n",
    "  \\begin{bmatrix}\n",
    "1 & 0 & 0 & 0 & 0 & 0 & 0 & 0 & 0 &  0 &  | &8\\\\\n",
    "0 & 1 & 0 & 0 & 1 & 0 & 0 & 1 & 0 & -1 &  | &0\\\\\n",
    "0 & 0 & 1 & 0 & 1 & 0 & 1 & 0 & 0 & -1 &  | &0\\\\\n",
    "0 & 0 & 0 & 1 & 0 & 0 & 0 & 0 & 0 &  0 &  | &1\\\\\n",
    "0 & 0 & 0 & 0 & 1 & 0 & 0 & 0 & 0 & -1 & | &-10\\\\\n",
    "0 & 0 & 0 & 0 & 0 & 1 & 0 & 0 & 0 &  0 &  | &9\\\\\n",
    "0 & 0 & 0 & 1 & 0 & 0 & 1 & 0 & 0 & -1 & | &-8\\\\\n",
    "0 & 0 & 0 & 0 & 0 & 0 & 1 & 1 & 0 & -1 & | &-2\\\\\n",
    "0 & 0 & 0 & 0 & 0 & 0 & 0 & 0 & 1 &  0 &  | &2\\\\\n",
    "0 & 0 & 0 & 0 & 3 & 0 & 0 & 0 & 0 & -1 &  | &0\\\\  \\end{bmatrix}\n",
    "  \\label{eq:aeqn}\n",
    "\\end{equation}"
   ]
  },
  {
   "cell_type": "markdown",
   "metadata": {},
   "source": [
    "$R7 - R4 \\rightarrow R7$"
   ]
  },
  {
   "cell_type": "markdown",
   "metadata": {},
   "source": [
    "\\begin{equation}\n",
    "  \\begin{bmatrix}\n",
    "1 & 0 & 0 & 0 & 0 & 0 & 0 & 0 & 0 &  0 &  | &8\\\\\n",
    "0 & 1 & 0 & 0 & 1 & 0 & 0 & 1 & 0 & -1 &  | &0\\\\\n",
    "0 & 0 & 1 & 0 & 1 & 0 & 1 & 0 & 0 & -1 &  | &0\\\\\n",
    "0 & 0 & 0 & 1 & 0 & 0 & 0 & 0 & 0 &  0 &  | &1\\\\\n",
    "0 & 0 & 0 & 0 & 1 & 0 & 0 & 0 & 0 & -1 & | &-10\\\\\n",
    "0 & 0 & 0 & 0 & 0 & 1 & 0 & 0 & 0 &  0 &  | &9\\\\\n",
    "0 & 0 & 0 & 0 & 0 & 0 & 1 & 0 & 0 & -1 & | &-9\\\\\n",
    "0 & 0 & 0 & 0 & 0 & 0 & 1 & 1 & 0 & -1 & | &-2\\\\\n",
    "0 & 0 & 0 & 0 & 0 & 0 & 0 & 0 & 1 &  0 &  | &2\\\\\n",
    "0 & 0 & 0 & 0 & 3 & 0 & 0 & 0 & 0 & -1 &  | &0\\\\\n",
    "\\end{bmatrix}\n",
    "  \\label{eq:aeqn}\n",
    "\\end{equation}"
   ]
  },
  {
   "cell_type": "markdown",
   "metadata": {},
   "source": [
    "$R8 - R7 \\rightarrow R8$\n",
    "\\begin{equation}\n",
    "  \\begin{bmatrix}\n",
    "1 & 0 & 0 & 0 & 0 & 0 & 0 & 0 & 0 &  0 &  | &8\\\\\n",
    "0 & 1 & 0 & 0 & 1 & 0 & 0 & 1 & 0 & -1 &  | &0\\\\\n",
    "0 & 0 & 1 & 0 & 1 & 0 & 1 & 0 & 0 & -1 &  | &0\\\\\n",
    "0 & 0 & 0 & 1 & 0 & 0 & 0 & 0 & 0 &  0 &  | &1\\\\\n",
    "0 & 0 & 0 & 0 & 1 & 0 & 0 & 0 & 0 & -1 & | &-10\\\\\n",
    "0 & 0 & 0 & 0 & 0 & 1 & 0 & 0 & 0 &  0 &  | &9\\\\\n",
    "0 & 0 & 0 & 0 & 0 & 0 & 1 & 0 & 0 & -1 & | &-9\\\\\n",
    "0 & 0 & 0 & 0 & 0 & 0 & 0 & 1 & 0 &  0 &  | &7\\\\\n",
    "0 & 0 & 0 & 0 & 0 & 0 & 0 & 0 & 1 &  0 &  | &2\\\\\n",
    "0 & 0 & 0 & 0 & 3 & 0 & 0 & 0 & 0 & -1 &  | &0\\\\\n",
    "\\end{bmatrix}\n",
    "  \\label{eq:aeqn}\n",
    "\\end{equation}"
   ]
  },
  {
   "cell_type": "markdown",
   "metadata": {},
   "source": [
    "$R3 - R5 \\rightarrow R3$\n",
    "\\begin{equation}\n",
    "  \\begin{bmatrix}\n",
    "1 & 0 & 0 & 0 & 0 & 0 & 0 & 0 & 0 &  0 &  | &8\\\\\n",
    "0 & 1 & 0 & 0 & 1 & 0 & 0 & 1 & 0 & -1 &  | &0\\\\\n",
    "0 & 0 & 1 & 0 & 0 & 0 & 1 & 0 & 0 &  0 &  | &10\\\\\n",
    "0 & 0 & 0 & 1 & 0 & 0 & 0 & 0 & 0 &  0 &  | &1\\\\\n",
    "0 & 0 & 0 & 0 & 1 & 0 & 0 & 0 & 0 & -1 & | &-10\\\\\n",
    "0 & 0 & 0 & 0 & 0 & 1 & 0 & 0 & 0 &  0 &  | &9\\\\\n",
    "0 & 0 & 0 & 0 & 0 & 0 & 1 & 0 & 0 & -1 & | &-9\\\\\n",
    "0 & 0 & 0 & 0 & 0 & 0 & 0 & 1 & 0 &  0 &  | &7\\\\\n",
    "0 & 0 & 0 & 0 & 0 & 0 & 0 & 0 & 1 &  0 &  | &2\\\\\n",
    "0 & 0 & 0 & 0 & 3 & 0 & 0 & 0 & 0 & -1 &  | &0\\\\\n",
    "\\end{bmatrix}\n",
    "  \\label{eq:aeqn}\n",
    "\\end{equation}"
   ]
  },
  {
   "cell_type": "markdown",
   "metadata": {},
   "source": [
    "$R10 - R5 \\rightarrow R10$\n",
    "\\begin{equation}\n",
    "  \\begin{bmatrix}\n",
    "1 & 0 & 0 & 0 & 0 & 0 & 0 & 0 & 0 &  0 &  | &8\\\\\n",
    "0 & 1 & 0 & 0 & 1 & 0 & 0 & 1 & 0 & -1 &  | &0\\\\\n",
    "0 & 0 & 1 & 0 & 0 & 0 & 1 & 0 & 0 &  0 &  | &10\\\\\n",
    "0 & 0 & 0 & 1 & 0 & 0 & 0 & 0 & 0 &  0 &  | &1\\\\\n",
    "0 & 0 & 0 & 0 & 1 & 0 & 0 & 0 & 0 & -1 & | &-10\\\\\n",
    "0 & 0 & 0 & 0 & 0 & 1 & 0 & 0 & 0 &  0 &  | &9\\\\\n",
    "0 & 0 & 0 & 0 & 0 & 0 & 1 & 0 & 0 & -1 & | &-9\\\\\n",
    "0 & 0 & 0 & 0 & 0 & 0 & 0 & 1 & 0 &  0 &  | &7\\\\\n",
    "0 & 0 & 0 & 0 & 0 & 0 & 0 & 0 & 1 &  0 &  | &2\\\\\n",
    "0 & 0 & 0 & 0 & 2 & 0 & 0 & 0 & 0 &  0 &  | &10\\\\\n",
    "\\end{bmatrix}\n",
    "  \\label{eq:aeqn}\n",
    "\\end{equation}"
   ]
  },
  {
   "cell_type": "markdown",
   "metadata": {},
   "source": [
    "$R10 / 2 \\rightarrow R10$\n",
    "$$\\left[\\begin{array}{@{}rrrrrrrrrr|c@{}}\n",
    "1 & 0 & 0 & 0 & 0 & 0 & 0 & 0 & 0 &  0 &  8\\\\\n",
    "0 & 1 & 0 & 0 & 1 & 0 & 0 & 1 & 0 & -1 &  0\\\\\n",
    "0 & 0 & 1 & 0 & 0 & 0 & 1 & 0 & 0 &  0 & 10\\\\\n",
    "0 & 0 & 0 & 1 & 0 & 0 & 0 & 0 & 0 &  0 &  1\\\\\n",
    "0 & 0 & 0 & 0 & 1 & 0 & 0 & 0 & 0 & -1 & -10\\\\\n",
    "0 & 0 & 0 & 0 & 0 & 1 & 0 & 0 & 0 &  0 &  9\\\\\n",
    "0 & 0 & 0 & 0 & 0 & 0 & 1 & 0 & 0 & -1 & -9\\\\\n",
    "0 & 0 & 0 & 0 & 0 & 0 & 0 & 1 & 0 &  0 &  7\\\\\n",
    "0 & 0 & 0 & 0 & 0 & 0 & 0 & 0 & 1 &  0 &  2\\\\\n",
    "0 & 0 & 0 & 0 & 1 & 0 & 0 & 0 & 0 &  0 &  5\\\\\n",
    "\\end{array}\\right]$$"
   ]
  },
  {
   "cell_type": "markdown",
   "metadata": {},
   "source": [
    "$R5 \\leftrightarrow R10$"
   ]
  },
  {
   "cell_type": "markdown",
   "metadata": {},
   "source": [
    "$$\\left[\\begin{array}{@{}rrrrrrrrrr|c@{}}\n",
    "1 & 0 & 0 & 0 & 0 & 0 & 0 & 0 & 0 &  0 &  8\\\\\n",
    "0 & 1 & 0 & 0 & 1 & 0 & 0 & 1 & 0 & -1 &  0\\\\\n",
    "0 & 0 & 1 & 0 & 0 & 0 & 1 & 0 & 0 &  0 & 10\\\\\n",
    "0 & 0 & 0 & 1 & 0 & 0 & 0 & 0 & 0 &  0 &  1\\\\\n",
    "0 & 0 & 0 & 0 & 1 & 0 & 0 & 0 & 0 &  0 &  5\\\\\n",
    "0 & 0 & 0 & 0 & 0 & 1 & 0 & 0 & 0 &  0 &  9\\\\\n",
    "0 & 0 & 0 & 0 & 0 & 0 & 1 & 0 & 0 & -1 & -9\\\\\n",
    "0 & 0 & 0 & 0 & 0 & 0 & 0 & 1 & 0 &  0 &  7\\\\\n",
    "0 & 0 & 0 & 0 & 0 & 0 & 0 & 0 & 1 &  0 &  2\\\\\n",
    "0 & 0 & 0 & 0 & 1 & 0 & 0 & 0 & 0 & -1 & -10\\\\\n",
    "\\end{array}\\right]$$"
   ]
  },
  {
   "cell_type": "markdown",
   "metadata": {},
   "source": [
    "$R2 - R8 \\rightarrow R2$\n",
    "$$\\left[\\begin{array}{@{}rrrrrrrrrr|c@{}}\n",
    "1 & 0 & 0 & 0 & 0 & 0 & 0 & 0 & 0 &  0 &  8\\\\\n",
    "0 & 1 & 0 & 0 & 1 & 0 & 0 & 0 & 0 & -1 & -7\\\\\n",
    "0 & 0 & 1 & 0 & 0 & 0 & 1 & 0 & 0 &  0 & 10\\\\\n",
    "0 & 0 & 0 & 1 & 0 & 0 & 0 & 0 & 0 &  0 &  1\\\\\n",
    "0 & 0 & 0 & 0 & 1 & 0 & 0 & 0 & 0 &  0 &  5\\\\\n",
    "0 & 0 & 0 & 0 & 0 & 1 & 0 & 0 & 0 &  0 &  9\\\\\n",
    "0 & 0 & 0 & 0 & 0 & 0 & 1 & 0 & 0 & -1 & -9\\\\\n",
    "0 & 0 & 0 & 0 & 0 & 0 & 0 & 1 & 0 &  0 &  7\\\\\n",
    "0 & 0 & 0 & 0 & 0 & 0 & 0 & 0 & 1 &  0 &  2\\\\\n",
    "0 & 0 & 0 & 0 & 1 & 0 & 0 & 0 & 0 & -1 & -10\\\\\n",
    "\\end{array}\\right]$$"
   ]
  },
  {
   "cell_type": "markdown",
   "metadata": {},
   "source": [
    "$R2 - R10 \\rightarrow R2$\n",
    "$$\\left[\\begin{array}{@{}rrrrrrrrrr|c@{}}\n",
    "1 & 0 & 0 & 0 & 0 & 0 & 0 & 0 & 0 &  0 &  8\\\\\n",
    "0 & 1 & 0 & 0 & 0 & 0 & 0 & 0 & 0 &  0 &  3\\\\\n",
    "0 & 0 & 1 & 0 & 0 & 0 & 1 & 0 & 0 &  0 & 10\\\\\n",
    "0 & 0 & 0 & 1 & 0 & 0 & 0 & 0 & 0 &  0 &  1\\\\\n",
    "0 & 0 & 0 & 0 & 1 & 0 & 0 & 0 & 0 &  0 &  5\\\\\n",
    "0 & 0 & 0 & 0 & 0 & 1 & 0 & 0 & 0 &  0 &  9\\\\\n",
    "0 & 0 & 0 & 0 & 0 & 0 & 1 & 0 & 0 & -1 & -9\\\\\n",
    "0 & 0 & 0 & 0 & 0 & 0 & 0 & 1 & 0 &  0 &  7\\\\\n",
    "0 & 0 & 0 & 0 & 0 & 0 & 0 & 0 & 1 &  0 &  2\\\\\n",
    "0 & 0 & 0 & 0 & 1 & 0 & 0 & 0 & 0 & -1 & -10\\\\\n",
    "\\end{array}\\right]$$"
   ]
  },
  {
   "cell_type": "markdown",
   "metadata": {},
   "source": [
    "$R3 - R7 \\rightarrow R3$\n",
    "$$\\left[\\begin{array}{@{}rrrrrrrrrr|c@{}}\n",
    "1 & 0 & 0 & 0 & 0 & 0 & 0 & 0 & 0 &  0 &  8\\\\\n",
    "0 & 1 & 0 & 0 & 0 & 0 & 0 & 0 & 0 &  0 &  3\\\\\n",
    "0 & 0 & 1 & 0 & 0 & 0 & 0 & 0 & 0 &  1 & 19\\\\\n",
    "0 & 0 & 0 & 1 & 0 & 0 & 0 & 0 & 0 &  0 &  1\\\\\n",
    "0 & 0 & 0 & 0 & 1 & 0 & 0 & 0 & 0 &  0 &  5\\\\\n",
    "0 & 0 & 0 & 0 & 0 & 1 & 0 & 0 & 0 &  0 &  9\\\\\n",
    "0 & 0 & 0 & 0 & 0 & 0 & 1 & 0 & 0 & -1 & -9\\\\\n",
    "0 & 0 & 0 & 0 & 0 & 0 & 0 & 1 & 0 &  0 &  7\\\\\n",
    "0 & 0 & 0 & 0 & 0 & 0 & 0 & 0 & 1 &  0 &  2\\\\\n",
    "0 & 0 & 0 & 0 & 1 & 0 & 0 & 0 & 0 & -1 & -10\\\\\n",
    "\\end{array}\\right]$$"
   ]
  },
  {
   "cell_type": "markdown",
   "metadata": {},
   "source": [
    "$R3 + R10 \\rightarrow R3$\n",
    "$$\\left[\\begin{array}{@{}rrrrrrrrrr|c@{}}\n",
    "1 & 0 & 0 & 0 & 0 & 0 & 0 & 0 & 0 &  0 &  8\\\\\n",
    "0 & 1 & 0 & 0 & 0 & 0 & 0 & 0 & 0 &  0 &  3\\\\\n",
    "0 & 0 & 1 & 0 & 1 & 0 & 0 & 0 & 0 &  0 &  9\\\\\n",
    "0 & 0 & 0 & 1 & 0 & 0 & 0 & 0 & 0 &  0 &  1\\\\\n",
    "0 & 0 & 0 & 0 & 1 & 0 & 0 & 0 & 0 &  0 &  5\\\\\n",
    "0 & 0 & 0 & 0 & 0 & 1 & 0 & 0 & 0 &  0 &  9\\\\\n",
    "0 & 0 & 0 & 0 & 0 & 0 & 1 & 0 & 0 & -1 & -9\\\\\n",
    "0 & 0 & 0 & 0 & 0 & 0 & 0 & 1 & 0 &  0 &  7\\\\\n",
    "0 & 0 & 0 & 0 & 0 & 0 & 0 & 0 & 1 &  0 &  2\\\\\n",
    "0 & 0 & 0 & 0 & 1 & 0 & 0 & 0 & 0 & -1 & -10\\\\\n",
    "\\end{array}\\right]$$"
   ]
  },
  {
   "cell_type": "markdown",
   "metadata": {},
   "source": [
    "$R10 - R5 \\rightarrow R10$\n",
    "$$\\left[\\begin{array}{@{}rrrrrrrrrr|c@{}}\n",
    "1 & 0 & 0 & 0 & 0 & 0 & 0 & 0 & 0 &  0 &  8\\\\\n",
    "0 & 1 & 0 & 0 & 0 & 0 & 0 & 0 & 0 &  0 &  3\\\\\n",
    "0 & 0 & 1 & 0 & 1 & 0 & 0 & 0 & 0 &  0 &  9\\\\\n",
    "0 & 0 & 0 & 1 & 0 & 0 & 0 & 0 & 0 &  0 &  1\\\\\n",
    "0 & 0 & 0 & 0 & 1 & 0 & 0 & 0 & 0 &  0 &  5\\\\\n",
    "0 & 0 & 0 & 0 & 0 & 1 & 0 & 0 & 0 &  0 &  9\\\\\n",
    "0 & 0 & 0 & 0 & 0 & 0 & 1 & 0 & 0 & -1 & -9\\\\\n",
    "0 & 0 & 0 & 0 & 0 & 0 & 0 & 1 & 0 &  0 &  7\\\\\n",
    "0 & 0 & 0 & 0 & 0 & 0 & 0 & 0 & 1 &  0 &  2\\\\\n",
    "0 & 0 & 0 & 0 & 0 & 0 & 0 & 0 & 0 & -1 & -15\\\\\n",
    "\\end{array}\\right]$$"
   ]
  },
  {
   "cell_type": "markdown",
   "metadata": {},
   "source": [
    "$R3 - R5 \\rightarrow R3$\n",
    "$$\\left[\\begin{array}{@{}rrrrrrrrrr|c@{}}\n",
    "1 & 0 & 0 & 0 & 0 & 0 & 0 & 0 & 0 &  0 &  8\\\\\n",
    "0 & 1 & 0 & 0 & 0 & 0 & 0 & 0 & 0 &  0 &  3\\\\\n",
    "0 & 0 & 1 & 0 & 0 & 0 & 0 & 0 & 0 &  0 &  4\\\\\n",
    "0 & 0 & 0 & 1 & 0 & 0 & 0 & 0 & 0 &  0 &  1\\\\\n",
    "0 & 0 & 0 & 0 & 1 & 0 & 0 & 0 & 0 &  0 &  5\\\\\n",
    "0 & 0 & 0 & 0 & 0 & 1 & 0 & 0 & 0 &  0 &  9\\\\\n",
    "0 & 0 & 0 & 0 & 0 & 0 & 1 & 0 & 0 & -1 & -9\\\\\n",
    "0 & 0 & 0 & 0 & 0 & 0 & 0 & 1 & 0 &  0 &  7\\\\\n",
    "0 & 0 & 0 & 0 & 0 & 0 & 0 & 0 & 1 &  0 &  2\\\\\n",
    "0 & 0 & 0 & 0 & 0 & 0 & 0 & 0 & 0 & -1 & -15\\\\\n",
    "\\end{array}\\right]$$"
   ]
  },
  {
   "cell_type": "markdown",
   "metadata": {},
   "source": [
    "$R7 - R10 \\rightarrow R7$\n",
    "$$\\left[\\begin{array}{@{}rrrrrrrrrr|c@{}}\n",
    "1 & 0 & 0 & 0 & 0 & 0 & 0 & 0 & 0 &  0 &  8\\\\\n",
    "0 & 1 & 0 & 0 & 0 & 0 & 0 & 0 & 0 &  0 &  3\\\\\n",
    "0 & 0 & 1 & 0 & 0 & 0 & 0 & 0 & 0 &  0 &  4\\\\\n",
    "0 & 0 & 0 & 1 & 0 & 0 & 0 & 0 & 0 &  0 &  1\\\\\n",
    "0 & 0 & 0 & 0 & 1 & 0 & 0 & 0 & 0 &  0 &  5\\\\\n",
    "0 & 0 & 0 & 0 & 0 & 1 & 0 & 0 & 0 &  0 &  9\\\\\n",
    "0 & 0 & 0 & 0 & 0 & 0 & 1 & 0 & 0 &  0 &  6\\\\\n",
    "0 & 0 & 0 & 0 & 0 & 0 & 0 & 1 & 0 &  0 &  7\\\\\n",
    "0 & 0 & 0 & 0 & 0 & 0 & 0 & 0 & 1 &  0 &  2\\\\\n",
    "0 & 0 & 0 & 0 & 0 & 0 & 0 & 0 & 0 & -1 & -15\\\\\n",
    "\\end{array}\\right]$$"
   ]
  },
  {
   "cell_type": "markdown",
   "metadata": {},
   "source": [
    "$R10 * R10 \\rightarrow R10$\n",
    "$$\\left[\\begin{array}{@{}rrrrrrrrrr|c@{}}\n",
    "1 & 0 & 0 & 0 & 0 & 0 & 0 & 0 & 0 &  0 &  8\\\\\n",
    "0 & 1 & 0 & 0 & 0 & 0 & 0 & 0 & 0 &  0 &  3\\\\\n",
    "0 & 0 & 1 & 0 & 0 & 0 & 0 & 0 & 0 &  0 &  4\\\\\n",
    "0 & 0 & 0 & 1 & 0 & 0 & 0 & 0 & 0 &  0 &  1\\\\\n",
    "0 & 0 & 0 & 0 & 1 & 0 & 0 & 0 & 0 &  0 &  5\\\\\n",
    "0 & 0 & 0 & 0 & 0 & 1 & 0 & 0 & 0 &  0 &  9\\\\\n",
    "0 & 0 & 0 & 0 & 0 & 0 & 1 & 0 & 0 &  0 &  6\\\\\n",
    "0 & 0 & 0 & 0 & 0 & 0 & 0 & 1 & 0 &  0 &  7\\\\\n",
    "0 & 0 & 0 & 0 & 0 & 0 & 0 & 0 & 1 &  0 &  2\\\\\n",
    "0 & 0 & 0 & 0 & 0 & 0 & 0 & 0 & 0 &  1 & 15\\\\\n",
    "\\end{array}\\right]$$"
   ]
  },
  {
   "cell_type": "markdown",
   "metadata": {},
   "source": [
    "Nu achter en onder elke 1 alleen maar nullen staan kunnen we kijken waar de X1 tot en met X9 en de y voor staan en hebben we het migische vierkant opgelost.\n"
   ]
  },
  {
   "cell_type": "markdown",
   "metadata": {},
   "source": [
    "$$\\begin{array}{|c|c|c|}\n",
    "\\hline\n",
    "X1 = 8 & X2 = 3 & X3 = 4 \\\\ \\hline\n",
    "X4 = 1 & X5 = 5 & X6 = 9 \\\\ \\hline\n",
    "X7 = 6 & X8 = 7 &X9 = 2 \\\\ \\hline\n",
    "\\end{array}$$"
   ]
  },
  {
   "cell_type": "markdown",
   "metadata": {},
   "source": [
    "#### oplossen van 3x3 magische vierkanten met drie getallen gegeven in Python gebruik makend van numpy."
   ]
  },
  {
   "cell_type": "markdown",
   "metadata": {},
   "source": [
    "De code om een magisch vierkant op te lossen met numpy."
   ]
  },
  {
   "cell_type": "code",
   "execution_count": 61,
   "metadata": {},
   "outputs": [
    {
     "name": "stdout",
     "output_type": "stream",
     "text": [
      "[[ 0  1  1  0  0  0  0  0  0 -1]\n",
      " [ 0  0  0  1  1  0  0  0  0 -1]\n",
      " [ 0  0  0  0  0  0  1  1  0 -1]\n",
      " [ 0  0  0  1  0  0  1  0  0 -1]\n",
      " [ 0  1  0  0  1  0  0  1  0 -1]\n",
      " [ 0  0  1  0  0  0  0  0  0 -1]\n",
      " [ 0  0  0  0  1  0  0  0  0 -1]\n",
      " [ 0  0  1  0  1  0  1  0  0 -1]]\n",
      "[[ 7]\n",
      " [ 6]\n",
      " [13]\n",
      " [ 7]\n",
      " [15]\n",
      " [ 4]\n",
      " [ 5]\n",
      " [15]]\n",
      "\n",
      "x1= 8 x2= 3 x3= 4 \n",
      "x4= 1 x5= 5 x6= 9 \n",
      "x7= 6 x8= 7 x9= 2 \n"
     ]
    }
   ],
   "source": [
    "import numpy as np\n",
    "\n",
    "magicSq = [[8,0,0],[0,0,9],[0,0,2]]\n",
    "\n",
    "def hor_loop(magcsq):\n",
    "    aMatrix = []\n",
    "    bArray = []\n",
    "    # horizontaal naar row echolon\n",
    "    for i in range(0, 3):\n",
    "        row = []\n",
    "        totaal = 0\n",
    "        # loop door de matrix\n",
    "        for j in range(0, 3):\n",
    "            for k in range(0, 3):\n",
    "                if i == j:\n",
    "                    totaal += magcsq[j][k]\n",
    "                    if magcsq[j][k] == 0:\n",
    "                        row.append(1)\n",
    "                    else:\n",
    "                        row.append(0)\n",
    "                else:\n",
    "                    row.append(0)\n",
    "        row.append(-1)\n",
    "        aMatrix.append(row)\n",
    "        bArray.append(15 - totaal)\n",
    "    info = [aMatrix, bArray]\n",
    "    return info\n",
    "\n",
    "\n",
    "def ver_loop(magcsq):\n",
    "    aMatrix = []\n",
    "    bArray = []\n",
    "    # verticaal naar row echolon\n",
    "    for i in range(0, 3):\n",
    "        row = []\n",
    "        totaal = 0\n",
    "        # loop door de matrix\n",
    "        for j in range(0, 3):\n",
    "            for k in range(0, 3):\n",
    "                if i == k:\n",
    "                    totaal += magcsq[j][k]\n",
    "                    if magcsq[j][k] == 0:\n",
    "                        row.append(1)\n",
    "                    else:\n",
    "                        row.append(0)\n",
    "                else:\n",
    "                    row.append(0)\n",
    "        row.append(-1)\n",
    "        aMatrix.append(row)\n",
    "        bArray.append(15 - totaal)\n",
    "    info = [aMatrix, bArray]\n",
    "    return info\n",
    "\n",
    "\n",
    "def digLR_loop(magcsq):\n",
    "    aMatrix = []\n",
    "    bArray = []\n",
    "    # diagonaal LR naar row echolon\n",
    "    row = []\n",
    "    totaal = 0\n",
    "    # loop door de matrix\n",
    "    for j in range(0, 3):\n",
    "        for k in range(0, 3):\n",
    "            if j == k:\n",
    "                totaal += magcsq[j][k]\n",
    "                if magcsq[j][k] == 0:\n",
    "                    row.append(1)\n",
    "                else:\n",
    "                    row.append(0)\n",
    "            else:\n",
    "                row.append(0)\n",
    "    row.append(-1)\n",
    "    aMatrix.append(row)\n",
    "    bArray.append(15 - totaal)\n",
    "    info = [aMatrix, bArray]\n",
    "    return info\n",
    "\n",
    "\n",
    "def digRL_loop(magcsq):\n",
    "    # diagonaal RL naar row echolon\n",
    "    aMatrix = []\n",
    "    bArray = []\n",
    "    row = []\n",
    "    totaal = 0\n",
    "    counter = 2\n",
    "    # loop door de matrix\n",
    "    for j in range(0, 3):\n",
    "        for k in range(0, 3):\n",
    "            if k == counter:\n",
    "                totaal += magcsq[j][counter]\n",
    "                if magcsq[j][counter] == 0:\n",
    "                    row.append(1)\n",
    "                else:\n",
    "                    row.append(0)\n",
    "            else:\n",
    "                row.append(0)\n",
    "        counter -= 1\n",
    "    row.append(-1)\n",
    "    aMatrix.append(row)\n",
    "    bArray.append(15 - totaal)\n",
    "    info = [aMatrix, bArray]\n",
    "    return info\n",
    "\n",
    "def get_matrix_array(magcsq):\n",
    "    matrix = []\n",
    "    array = []\n",
    "    hor = hor_loop(magcsq)\n",
    "    ver = ver_loop(magcsq)\n",
    "    digLR = digLR_loop(magcsq)\n",
    "    digRL = digRL_loop(magcsq)\n",
    "\n",
    "    for i in range(0, 3):\n",
    "        matrix.append(hor[0][i])\n",
    "        array.append([hor[1][i]])\n",
    "    for i in range(0, 3):\n",
    "        matrix.append(ver[0][i])\n",
    "        array.append([ver[1][i]])\n",
    "    matrix.append(digLR[0][0])\n",
    "    array.append([digLR[1][0]])\n",
    "    matrix.append(digRL[0][0])\n",
    "    array.append([digRL[1][0]])\n",
    "    infoList = [matrix, array]\n",
    "    return infoList\n",
    "\n",
    "def getSolution(matrix, ant):\n",
    "    X = [\"x1= \",\"x2= \",\"x3= \",\"x4= \",\"x5= \",\"x6= \",\"x7= \",\"x8= \",\"x9= \"]\n",
    "    sq = []\n",
    "    for j in range(0, 3):\n",
    "            for k in range(0, 3):\n",
    "                sq.append(matrix[j][k])\n",
    "                \n",
    "    for i in range(0,9):\n",
    "        if sq[i] != 0:\n",
    "            X[i]+=str(sq[i])\n",
    "        else:\n",
    "            X[i]+=str(int(np.round(ant[i])))\n",
    "    return X\n",
    "\n",
    "def printAnt(ant):\n",
    "    a = \"\"\n",
    "    for i in range(0,9):\n",
    "        a+= ant[i] + \" \"\n",
    "        if i == 2 or i == 5 or i == 8:\n",
    "            print(a)\n",
    "            a = \"\"\n",
    "\n",
    "\n",
    "infoList = get_matrix_array(magicSq)\n",
    "\n",
    "A = infoList[0]\n",
    "b = infoList[1]\n",
    "\n",
    "print(np.matrix(A))\n",
    "print(np.matrix(b))\n",
    "A = np.matrix(A)\n",
    "b = np.matrix(b)\n",
    "\n",
    "\n",
    "# inverse of A\n",
    "invA = np.linalg.pinv(A)\n",
    "\n",
    "# bereken invA * b = x\n",
    "x = np.squeeze(np.asarray(np.dot(invA,b)))\n",
    "ant = getSolution(magicSq,x)\n",
    "\n",
    "# print antwoord\n",
    "print()\n",
    "printAnt(ant)"
   ]
  },
  {
   "cell_type": "code",
   "execution_count": null,
   "metadata": {},
   "outputs": [],
   "source": []
  },
  {
   "cell_type": "markdown",
   "metadata": {},
   "source": [
    "."
   ]
  }
 ],
 "metadata": {
  "kernelspec": {
   "display_name": "Python 3",
   "language": "python",
   "name": "python3"
  },
  "language_info": {
   "codemirror_mode": {
    "name": "ipython",
    "version": 3
   },
   "file_extension": ".py",
   "mimetype": "text/x-python",
   "name": "python",
   "nbconvert_exporter": "python",
   "pygments_lexer": "ipython3",
   "version": "3.7.3"
  }
 },
 "nbformat": 4,
 "nbformat_minor": 2
}
