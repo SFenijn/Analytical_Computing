{
 "cells": [
  {
   "cell_type": "markdown",
   "metadata": {},
   "source": [
    "## Markov Chains"
   ]
  },
  {
   "cell_type": "code",
   "execution_count": 68,
   "metadata": {},
   "outputs": [],
   "source": [
    "import numpy as np\n",
    "import random as rm"
   ]
  },
  {
   "cell_type": "markdown",
   "metadata": {},
   "source": [
    "Eerst maken we de matrixen die aangeven wat de states zijn en hoeveel kans er is om vaan een bepaalde state naar een andere state te komen."
   ]
  },
  {
   "cell_type": "code",
   "execution_count": 69,
   "metadata": {},
   "outputs": [],
   "source": [
    "# de posseble states\n",
    "states = [\"Geboren\" ,\"Hongerig\",\"Tevreden\",\"Opgejaagd\"]\n",
    "\n",
    "# Possible sequences\n",
    "transitionName = [[\"GG\",\"GH\",\"GT\", \"GO\"],[\"HG\",\"HH\",\"HT\",\"HO\"],[\"TG\",\"TH\",\"TT\",\"TO\"],[\"OG\",\"OH\",\"OT\",\"OO\"]]\n",
    "\n",
    "# Probabilities matrix\n",
    "transitionMatrix = [[0,0.1,0.7,0.2],[0,0.8,0.1,0.1],[0,0.4,0.5,0.1],[0,0.6,0.2,0.2]]"
   ]
  },
  {
   "cell_type": "code",
   "execution_count": 70,
   "metadata": {},
   "outputs": [],
   "source": [
    "def runTroughStates3(num_days):\n",
    "    # start state\n",
    "    active_state = \"Geboren\"\n",
    "    # lijst met doorlopen states, altijd beginnend met geboren\n",
    "    state_list = [active_state]\n",
    "    count = 0\n",
    "    while count < num_days:\n",
    "        \n",
    "        # controleer in welke state we zijn aan de hand daarvan naar welke state we gaan.\n",
    "        if active_state == \"Geboren\":\n",
    "            change = np.random.choice(transitionName[0],replace=True,p=transitionMatrix[0])\n",
    "            # check naar welke state we gaan\n",
    "            # check voor geboren hoeft er niet in wand die kans is altijd 0%\n",
    "            if change == \"GH\":\n",
    "                state_list.append(\"Hongerig\")\n",
    "                active_state = \"Hongerig\"\n",
    "            elif change == \"GT\":\n",
    "                state_list.append(\"Tevreden\")\n",
    "                active_state = \"Tevreden\"\n",
    "            else:\n",
    "                state_list.append(\"Opgejaagd\")\n",
    "                active_state = \"Opgejaagd\"\n",
    "                \n",
    "        elif active_state == \"Hongerig\":\n",
    "            change = np.random.choice(transitionName[1],replace=True,p=transitionMatrix[1])\n",
    "            # check naar welke state we gaan\n",
    "            # check voor geboren hoeft er niet in wand die kans is altijd 0%\n",
    "            if change == \"HH\":\n",
    "                state_list.append(\"Hongerig\")\n",
    "                active_state = \"Hongerig\"\n",
    "            elif change == \"HT\":\n",
    "                state_list.append(\"Tevreden\")\n",
    "                active_state = \"Tevreden\"\n",
    "            else:\n",
    "                state_list.append(\"Opgejaagd\")\n",
    "                active_state = \"Opgejaagd\"\n",
    "                \n",
    "        elif active_state == \"Tevreden\":\n",
    "            change = np.random.choice(transitionName[2],replace=True,p=transitionMatrix[2])\n",
    "            # check naar welke state we gaan\n",
    "            # check voor geboren hoeft er niet in wand die kans is altijd 0%\n",
    "            if change == \"TH\":\n",
    "                state_list.append(\"Hongerig\")\n",
    "                active_state = \"Hongerig\"\n",
    "            elif change == \"TT\":\n",
    "                state_list.append(\"Tevreden\")\n",
    "                active_state = \"Tevreden\"\n",
    "            else:\n",
    "                state_list.append(\"Opgejaagd\")\n",
    "                active_state = \"Opgejaagd\"\n",
    "                \n",
    "        elif active_state == \"Opgejaagd\":\n",
    "            change = np.random.choice(transitionName[3],replace=True,p=transitionMatrix[3])\n",
    "            # check naar welke state we gaan\n",
    "            # check voor geboren hoeft er niet in wand die kans is altijd 0%\n",
    "            if change == \"OH\":\n",
    "                state_list.append(\"Hongerig\")\n",
    "                active_state = \"Hongerig\"\n",
    "            elif change == \"OT\":\n",
    "                state_list.append(\"Tevreden\")\n",
    "                active_state = \"Tevreden\"\n",
    "            else:\n",
    "                state_list.append(\"Opgejaagd\")\n",
    "                active_state = \"Opgejaagd\"\n",
    "                \n",
    "        # update count\n",
    "        count += 1\n",
    "    # return state_list als de loop klaar is\n",
    "    return state_list           "
   ]
  },
  {
   "cell_type": "markdown",
   "metadata": {},
   "source": [
    "Met de bovenstaande functie kunnen we nu een markov chain simuleren. we krijgen er een lijst van terug waarin alles verschillednde states staan die er zijn doorlopen. Aan de hand daarvan kunnen we gaan kijken op welke state het meest waarschijnlijk is."
   ]
  },
  {
   "cell_type": "code",
   "execution_count": 71,
   "metadata": {},
   "outputs": [
    {
     "name": "stdout",
     "output_type": "stream",
     "text": [
      "Geboren:  1\n",
      "Hongerig:  74\n",
      "Tevreden:  16\n",
      "Opgejaagd:  10\n"
     ]
    }
   ],
   "source": [
    "# controleren weke state het meeste voorlkomt na 100 dagen\n",
    "statelist = runTroughStates3(100)\n",
    "G_count = 0\n",
    "H_count = 0\n",
    "T_count = 0\n",
    "O_count = 0\n",
    "for i in statelist:\n",
    "    if i == \"Geboren\":\n",
    "        G_count += 1\n",
    "    elif i == \"Hongerig\":\n",
    "        H_count += 1\n",
    "    elif i == \"Tevreden\":\n",
    "        T_count += 1\n",
    "    elif i == \"Opgejaagd\":\n",
    "        O_count += 1\n",
    "\n",
    "print(\"Geboren: \", G_count) # \"Geboren zou altijd 1 moeten zijn\"\n",
    "print(\"Hongerig: \", H_count)\n",
    "print(\"Tevreden: \", T_count)\n",
    "print(\"Opgejaagd: \", O_count)   "
   ]
  },
  {
   "cell_type": "markdown",
   "metadata": {},
   "source": [
    "We kunnen nu zien welke toestand het meest waarschijnlijk is."
   ]
  },
  {
   "cell_type": "markdown",
   "metadata": {},
   "source": [
    "We hebben nu een markov chain uitgewerkt met 1 begin state en 3 verdere states hieronder gaan de daar een state aan toevoegen en kijken wat dat doet met de uitkomst."
   ]
  },
  {
   "cell_type": "code",
   "execution_count": 72,
   "metadata": {},
   "outputs": [],
   "source": [
    "# de posseble states\n",
    "states = [\"Geboren\" ,\"Hongerig\",\"Tevreden\",\"Opgejaagd\", \"Veilig\"]\n",
    "\n",
    "# Possible sequences\n",
    "transitionName = [[\"GG\",\"GH\",\"GT\", \"GO\",\"GV\"],\n",
    "                  [\"HG\",\"HH\",\"HT\",\"HO\",\"HV\"],\n",
    "                  [\"TG\",\"TH\",\"TT\",\"TO\",\"TV\"],\n",
    "                  [\"OG\",\"OH\",\"OT\",\"OO\",\"OV\"],\n",
    "                  [\"VG\",\"VH\",\"VT\",\"VO\",\"VV\"]]\n",
    "\n",
    "# Probabilities matrix\n",
    "transitionMatrix = [[0,0.1,0.6,0.2,0.1],\n",
    "                    [0,0.4,0.1,0.1,0.4],\n",
    "                    [0,0.2,0.4,0.1,0.3],\n",
    "                    [0,0.6,0.2,0.2,0.0],\n",
    "                    [0,0.1,0.3,0.2,0.4]]"
   ]
  },
  {
   "cell_type": "markdown",
   "metadata": {},
   "source": [
    "De kansen zijn aangepast om ruimte te maken voor de nieuwe state. Die state is Veilig. Als een Flumph net geboren is is er een 10% kans dat het zich veilig gaat voeld. Als een Flumph hongerig is er 40% kans dat het zich veilig gaat voelen en als een Flumph Opgejaagd is, dan is er geen enkele kans dat een Flumph zich veilig gaat voelen. Maar als een Flumph al veilig is dan is er 40% kans dat het zich weer veilig gaat voelen. De veranderingen van kansen is vooral uit honerig gehaald dus ik verwacht minder kans op hongerige Flumphen."
   ]
  },
  {
   "cell_type": "code",
   "execution_count": 73,
   "metadata": {},
   "outputs": [],
   "source": [
    "def runTroughStates4(num_days):\n",
    "    # start state\n",
    "    active_state = \"Geboren\"\n",
    "    # lijst met doorlopen states, altijd beginnend met geboren\n",
    "    state_list = [active_state]\n",
    "    count = 0\n",
    "    while count < num_days:\n",
    "        \n",
    "        # controleer in welke state we zijn aan de hand daarvan naar welke state we gaan.\n",
    "        if active_state == \"Geboren\":\n",
    "            change = np.random.choice(transitionName[0],replace=True,p=transitionMatrix[0])\n",
    "            # check naar welke state we gaan\n",
    "            # check voor geboren hoeft er niet in wand die kans is altijd 0%\n",
    "            if change == \"GH\":\n",
    "                state_list.append(\"Hongerig\")\n",
    "                active_state = \"Hongerig\"\n",
    "            elif change == \"GT\":\n",
    "                state_list.append(\"Tevreden\")\n",
    "                active_state = \"Tevreden\"\n",
    "            elif change == \"GO\":\n",
    "                state_list.append(\"Opgejaagd\")\n",
    "                active_state = \"Opgejaagd\"\n",
    "            else:\n",
    "                state_list.append(\"Veilig\")\n",
    "                active_state = \"Veilig\"\n",
    "                \n",
    "        elif active_state == \"Hongerig\":\n",
    "            change = np.random.choice(transitionName[1],replace=True,p=transitionMatrix[1])\n",
    "            # check naar welke state we gaan\n",
    "            # check voor geboren hoeft er niet in wand die kans is altijd 0%\n",
    "            if change == \"HH\":\n",
    "                state_list.append(\"Hongerig\")\n",
    "                active_state = \"Hongerig\"\n",
    "            elif change == \"HT\":\n",
    "                state_list.append(\"Tevreden\")\n",
    "                active_state = \"Tevreden\"\n",
    "            elif change == \"HO\":\n",
    "                state_list.append(\"Opgejaagd\")\n",
    "                active_state = \"Opgejaagd\"\n",
    "            else:\n",
    "                state_list.append(\"Veilig\")\n",
    "                active_state = \"Veilig\"\n",
    "                \n",
    "        elif active_state == \"Tevreden\":\n",
    "            change = np.random.choice(transitionName[2],replace=True,p=transitionMatrix[2])\n",
    "            # check naar welke state we gaan\n",
    "            # check voor geboren hoeft er niet in wand die kans is altijd 0%\n",
    "            if change == \"TH\":\n",
    "                state_list.append(\"Hongerig\")\n",
    "                active_state = \"Hongerig\"\n",
    "            elif change == \"TT\":\n",
    "                state_list.append(\"Tevreden\")\n",
    "                active_state = \"Tevreden\"\n",
    "            elif change == \"TO\":\n",
    "                state_list.append(\"Opgejaagd\")\n",
    "                active_state = \"Opgejaagd\"\n",
    "            else:\n",
    "                state_list.append(\"Veilig\")\n",
    "                active_state = \"Veilig\"\n",
    "                \n",
    "        elif active_state == \"Opgejaagd\":\n",
    "            change = np.random.choice(transitionName[3],replace=True,p=transitionMatrix[3])\n",
    "            # check naar welke state we gaan\n",
    "            # check voor geboren hoeft er niet in wand die kans is altijd 0%\n",
    "            if change == \"OH\":\n",
    "                state_list.append(\"Hongerig\")\n",
    "                active_state = \"Hongerig\"\n",
    "            elif change == \"OT\":\n",
    "                state_list.append(\"Tevreden\")\n",
    "                active_state = \"Tevreden\"\n",
    "            elif change == \"OO\":\n",
    "                state_list.append(\"Opgejaagd\")\n",
    "                active_state = \"Opgejaagd\"\n",
    "            else:\n",
    "                state_list.append(\"Veilig\")\n",
    "                active_state = \"Veilig\"\n",
    "                \n",
    "        elif active_state == \"Veilig\":\n",
    "            change = np.random.choice(transitionName[4],replace=True,p=transitionMatrix[4])\n",
    "            # check naar welke state we gaan\n",
    "            # check voor geboren hoeft er niet in wand die kans is altijd 0%\n",
    "            if change == \"VH\":\n",
    "                state_list.append(\"Hongerig\")\n",
    "                active_state = \"Hongerig\"\n",
    "            elif change == \"VT\":\n",
    "                state_list.append(\"Tevreden\")\n",
    "                active_state = \"Tevreden\"\n",
    "            elif change == \"VO\":\n",
    "                state_list.append(\"Opgejaagd\")\n",
    "                active_state = \"Opgejaagd\"\n",
    "            else:\n",
    "                state_list.append(\"Veilig\")\n",
    "                active_state = \"Veilig\"\n",
    "                \n",
    "        # update count\n",
    "        count += 1\n",
    "    # return state_list als de loop klaar is\n",
    "    return state_list       "
   ]
  },
  {
   "cell_type": "code",
   "execution_count": 74,
   "metadata": {},
   "outputs": [
    {
     "name": "stdout",
     "output_type": "stream",
     "text": [
      "Geboren:  1\n",
      "Hongerig:  20\n",
      "Tevreden:  20\n",
      "Opgejaagd:  19\n",
      "Veilig:  41\n"
     ]
    }
   ],
   "source": [
    "# controleren weke state het meeste voorlkomt na 100 dagen\n",
    "statelist = runTroughStates4(100)\n",
    "G_count = 0\n",
    "H_count = 0\n",
    "T_count = 0\n",
    "O_count = 0\n",
    "V_count = 0\n",
    "for i in statelist:\n",
    "    if i == \"Geboren\":\n",
    "        G_count += 1\n",
    "    elif i == \"Hongerig\":\n",
    "        H_count += 1\n",
    "    elif i == \"Tevreden\":\n",
    "        T_count += 1\n",
    "    elif i == \"Opgejaagd\":\n",
    "        O_count += 1\n",
    "    elif i == \"Veilig\":\n",
    "        V_count += 1\n",
    "\n",
    "print(\"Geboren: \", G_count) # \"Geboren zou altijd 1 moeten zijn\"\n",
    "print(\"Hongerig: \", H_count)\n",
    "print(\"Tevreden: \", T_count)\n",
    "print(\"Opgejaagd: \", O_count) \n",
    "print(\"Veilig: \", V_count)"
   ]
  },
  {
   "cell_type": "markdown",
   "metadata": {},
   "source": [
    "Zoals verwacht is de Flumph in plaats van veel hongerig nu vaak vaak veilig. Ook is de tevreden state wat omhoog gegaan. want als een Flumph veilig is heeft het ook een relatief grote kans om tevreden te worden. Na er een vierde state aan het leven van een Flumph toegevoegd te hebben is het levensstandaard van een Flumph een stuk omhoog gegaan. Daar kunnen we dan ook weer tevreden over zijn."
   ]
  },
  {
   "cell_type": "code",
   "execution_count": null,
   "metadata": {},
   "outputs": [],
   "source": []
  }
 ],
 "metadata": {
  "kernelspec": {
   "display_name": "Python 3",
   "language": "python",
   "name": "python3"
  },
  "language_info": {
   "codemirror_mode": {
    "name": "ipython",
    "version": 3
   },
   "file_extension": ".py",
   "mimetype": "text/x-python",
   "name": "python",
   "nbconvert_exporter": "python",
   "pygments_lexer": "ipython3",
   "version": "3.7.3"
  }
 },
 "nbformat": 4,
 "nbformat_minor": 2
}
