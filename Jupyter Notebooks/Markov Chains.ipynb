{
 "cells": [
  {
   "cell_type": "markdown",
   "metadata": {},
   "source": [
    "## Markov Chains"
   ]
  },
  {
   "cell_type": "code",
   "execution_count": 45,
   "metadata": {},
   "outputs": [],
   "source": [
    "import numpy as np\n",
    "import random as rm"
   ]
  },
  {
   "cell_type": "markdown",
   "metadata": {},
   "source": [
    "Eerst maken we de matrixen die aangeven wat de states zijn en hoeveel kans er is om vaan een bepaalde state naar een andere state te komen."
   ]
  },
  {
   "cell_type": "code",
   "execution_count": 46,
   "metadata": {},
   "outputs": [],
   "source": [
    "# de posseble states\n",
    "states = [\"Geboren\" ,\"Hongerig\",\"Tevreden\",\"Opgejaagd\"]\n",
    "\n",
    "# Possible sequences\n",
    "transitionName = [[\"GG\",\"GH\",\"GT\", \"GO\"],[\"HG\",\"HH\",\"HT\",\"HO\"],[\"TG\",\"TH\",\"TT\",\"TO\"],[\"OG\",\"OH\",\"OT\",\"OO\"]]\n",
    "\n",
    "# Probabilities matrix\n",
    "transitionMatrix = [[0,0.1,0.7,0.2],[0,0.8,0.1,0.1],[0,0.4,0.5,0.1],[0,0.6,0.2,0.2]]"
   ]
  },
  {
   "cell_type": "code",
   "execution_count": 47,
   "metadata": {},
   "outputs": [],
   "source": [
    "def runTroughStates(num_days):\n",
    "    # start state\n",
    "    active_state = \"Geboren\"\n",
    "    # lijst met doorlopen states, altijd beginnend met geboren\n",
    "    state_list = [active_state]\n",
    "    count = 0\n",
    "    while count < num_days:\n",
    "        \n",
    "        # controleer in welke state we zijn aan de hand daarvan naar welke state we gaan.\n",
    "        if active_state == \"Geboren\":\n",
    "            change = np.random.choice(transitionName[0],replace=True,p=transitionMatrix[0])\n",
    "            # check naar welke state we gaan\n",
    "            # check voor geboren hoeft er niet in wand die kans is altijd 0%\n",
    "            if change == \"GH\":\n",
    "                state_list.append(\"Hongerig\")\n",
    "                active_state = \"Hongerig\"\n",
    "            elif change == \"GT\":\n",
    "                state_list.append(\"Tevreden\")\n",
    "                active_state = \"Tevreden\"\n",
    "            else:\n",
    "                state_list.append(\"Opgejaagd\")\n",
    "                active_state = \"Opgejaagd\"\n",
    "                \n",
    "        elif active_state == \"Hongerig\":\n",
    "            change = np.random.choice(transitionName[1],replace=True,p=transitionMatrix[1])\n",
    "            # check naar welke state we gaan\n",
    "            # check voor geboren hoeft er niet in wand die kans is altijd 0%\n",
    "            if change == \"HH\":\n",
    "                state_list.append(\"Hongerig\")\n",
    "                active_state = \"Hongerig\"\n",
    "            elif change == \"HT\":\n",
    "                state_list.append(\"Tevreden\")\n",
    "                active_state = \"Tevreden\"\n",
    "            else:\n",
    "                state_list.append(\"Opgejaagd\")\n",
    "                active_state = \"Opgejaagd\"\n",
    "                \n",
    "        elif active_state == \"Tevreden\":\n",
    "            change = np.random.choice(transitionName[2],replace=True,p=transitionMatrix[2])\n",
    "            # check naar welke state we gaan\n",
    "            # check voor geboren hoeft er niet in wand die kans is altijd 0%\n",
    "            if change == \"TH\":\n",
    "                state_list.append(\"Hongerig\")\n",
    "                active_state = \"Hongerig\"\n",
    "            elif change == \"TT\":\n",
    "                state_list.append(\"Tevreden\")\n",
    "                active_state = \"Tevreden\"\n",
    "            else:\n",
    "                state_list.append(\"Opgejaagd\")\n",
    "                active_state = \"Opgejaagd\"\n",
    "                \n",
    "        elif active_state == \"Opgejaagd\":\n",
    "            change = np.random.choice(transitionName[3],replace=True,p=transitionMatrix[3])\n",
    "            # check naar welke state we gaan\n",
    "            # check voor geboren hoeft er niet in wand die kans is altijd 0%\n",
    "            if change == \"OH\":\n",
    "                state_list.append(\"Hongerig\")\n",
    "                active_state = \"Hongerig\"\n",
    "            elif change == \"OT\":\n",
    "                state_list.append(\"Tevreden\")\n",
    "                active_state = \"Tevreden\"\n",
    "            else:\n",
    "                state_list.append(\"Opgejaagd\")\n",
    "                active_state = \"Opgejaagd\"\n",
    "                \n",
    "        # update count\n",
    "        count += 1\n",
    "    # return state_list als de loop klaar is\n",
    "    return state_list           "
   ]
  },
  {
   "cell_type": "markdown",
   "metadata": {},
   "source": [
    "Met de bovenstaande functie kunnen we nu een markov chain simuleren. we krijgen er een lijst van terug waarin alles verschillednde states staan die er zijn doorlopen. Aan de hand daarvan kunnen we gaan kijken op welke state het meest waarschijnlijk is."
   ]
  },
  {
   "cell_type": "code",
   "execution_count": 48,
   "metadata": {},
   "outputs": [
    {
     "name": "stdout",
     "output_type": "stream",
     "text": [
      "['Geboren', 'Opgejaagd', 'Hongerig', 'Hongerig', 'Hongerig', 'Hongerig', 'Hongerig', 'Tevreden', 'Hongerig', 'Hongerig', 'Hongerig', 'Hongerig', 'Hongerig', 'Opgejaagd', 'Hongerig', 'Hongerig', 'Hongerig', 'Hongerig', 'Tevreden', 'Tevreden', 'Hongerig']\n",
      "Hongerig:  15\n",
      "Tevreden:  3\n",
      "Opgejaagd:  2\n"
     ]
    }
   ],
   "source": [
    "# controleren weke state het meeste voorlkomt na 100 dagen\n",
    "statelist = runTroughStates(20)\n",
    "H_count = 0\n",
    "T_count = 0\n",
    "O_count = 0\n",
    "for i in statelist:\n",
    "    if i == \"Hongerig\":\n",
    "        H_count += 1\n",
    "    elif i == \"Tevreden\":\n",
    "        T_count += 1\n",
    "    elif i == \"Opgejaagd\":\n",
    "        O_count += 1\n",
    "\n",
    "print(\"Geboren: \", G_count) # \"Geboren zou alte\"\n",
    "print(\"Hongerig: \", H_count)\n",
    "print(\"Tevreden: \", T_count)\n",
    "print(\"Opgejaagd: \", O_count)\n",
    "    \n",
    "    "
   ]
  },
  {
   "cell_type": "markdown",
   "metadata": {},
   "source": [
    "We kunnen nu zien"
   ]
  },
  {
   "cell_type": "code",
   "execution_count": null,
   "metadata": {},
   "outputs": [],
   "source": []
  }
 ],
 "metadata": {
  "kernelspec": {
   "display_name": "Python 3",
   "language": "python",
   "name": "python3"
  },
  "language_info": {
   "codemirror_mode": {
    "name": "ipython",
    "version": 3
   },
   "file_extension": ".py",
   "mimetype": "text/x-python",
   "name": "python",
   "nbconvert_exporter": "python",
   "pygments_lexer": "ipython3",
   "version": "3.7.3"
  }
 },
 "nbformat": 4,
 "nbformat_minor": 2
}
