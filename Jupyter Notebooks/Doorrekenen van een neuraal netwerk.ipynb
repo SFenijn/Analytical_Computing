{
 "cells": [
  {
   "cell_type": "markdown",
   "metadata": {},
   "source": [
    "Opdracht: Doorrekenen van een neuraal netwerk."
   ]
  },
  {
   "cell_type": "markdown",
   "metadata": {},
   "source": [
    "# Doorrekenen van een neuraal netwerk"
   ]
  },
  {
   "cell_type": "markdown",
   "metadata": {},
   "source": [
    "In deze opdracht lees ik een netwerk in vanuit een json-bestand en dit netwerk word dan gebruikt om matrices te maken. Met die matrices als input word een output berekent.\n",
    "\n",
    "Numpy en json worden geimporteerd en een variable voor de json filenaam word aangemaakt."
   ]
  },
  {
   "cell_type": "code",
   "execution_count": 135,
   "metadata": {},
   "outputs": [],
   "source": [
    "import numpy as np\n",
    "import json\n",
    "\n",
    "file2 = \"example-2layer.json\""
   ]
  },
  {
   "cell_type": "markdown",
   "metadata": {},
   "source": [
    "Om de informatie van de jsonfile te kunnen inlezen zodat de matrice gemaakt kan worden, wordt de informatie in de Jsonfile omgezet naar een dictionary."
   ]
  },
  {
   "cell_type": "code",
   "execution_count": 136,
   "metadata": {},
   "outputs": [],
   "source": [
    "def jsonToDict(filename):\n",
    "#   file word geopent gelezen en in een dict gezet, een dict word returnd\n",
    "    file = open(filename)\n",
    "    j = file.read()\n",
    "    dJ = json.loads(j)\n",
    "    file.close()\n",
    "    return dJ"
   ]
  },
  {
   "cell_type": "markdown",
   "metadata": {},
   "source": [
    "Numpy heeft een specifieke notatie nodig om een matrix aan te maken. De functie hieronder maakt gebruik van een dictionary, met de informatie voor de matrix, om die om te zetten naar een string die numpy kan gebruiken om een matrix aan te maken. Zodra de matrix is aangemaakt word die returnd."
   ]
  },
  {
   "cell_type": "code",
   "execution_count": 141,
   "metadata": {},
   "outputs": [],
   "source": [
    "def dictToMatrix(jD):\n",
    "    # de dict word uitgelezen en een matrix word returnd\n",
    "    mString = \"\"\n",
    "    size_out = int(jD[\"size_out\"])\n",
    "    size_in = int(jD[\"size_in\"])\n",
    "    \n",
    "#   met behulp van size_out en size_in word er door de dict geloopt om de juiste aantal waardes te krijgen\n",
    "    i = 1\n",
    "    while i < size_in+1:\n",
    "        j = 1\n",
    "        while j < size_out+1:\n",
    "#           als er een waarde is word die in de matrix opgeslagen\n",
    "            try:\n",
    "                n = jD[\"weights\"][str(i)][str(j)]\n",
    "#           als er geen waarde is wordt er een random getal tussen -1 en 1 opgeslagen\n",
    "            except:\n",
    "                n = np.random.randint(-1, high=1, dtype=int)\n",
    "            mString += str(n) + \" \"\n",
    "            j += 1\n",
    "        mString += \";\"\n",
    "        i += 1\n",
    "    mString = mString[:-1]\n",
    "    \n",
    "#   met gebruik van de aangemaakte string word met numpy een matrix aangemaakt \n",
    "    matrix = np.matrix(mString)\n",
    "    return matrix"
   ]
  },
  {
   "cell_type": "markdown",
   "metadata": {},
   "source": [
    "In de volgende functie wordt de matrixvermenigvuldiging uitgevoerd.\n",
    "\n",
    "Matrixvermenigvuldiging van matrix1 met matrix2 kan alleen als het aantal kolommen van matrix1 gelijk is aan het aantal rijen van matrix2. Daarom als matrix1 M x N is, moet matrix2 N x P zijn."
   ]
  },
  {
   "cell_type": "code",
   "execution_count": 142,
   "metadata": {},
   "outputs": [],
   "source": [
    "def matrixMultiplication(matrixA, matrixB):\n",
    "#       Een lege matrixC met de correcte groote word aangemaakt\n",
    "        matrixC = np.zeros((matrixA.shape[0],matrixB.shape[1]))\n",
    "    \n",
    "#       controle of de kolommen van MatrixA gelijk zijn aan de rijen van matrixB                              \n",
    "        if (matrixA.shape[1] != matrixB.shape[0]):\n",
    "            print(\"Length n and length n are not the same.\")\n",
    "            return matrixC\n",
    "#       Er wordt aan de hand van de kolommen en rijen van matrixA en matrixB geloopt om matrixC in te vullen\n",
    "        for i in range(matrixA.shape[0]):\n",
    "            for j in range(matrixB.shape[1]):\n",
    "#               De som word doorlopen en de uitkomst word op de juiste plek in matrixC gezet\n",
    "                for k in range(matrixA.shape[1]):\n",
    "                    matrixC[i,j] = matrixC[i,j] + (matrixA[i,k] * matrixB[k,j])\n",
    "#       De nieuwe matrixC word returnd\n",
    "        return  matrixC"
   ]
  },
  {
   "cell_type": "markdown",
   "metadata": {},
   "source": [
    "Met behulp van de functie dictToMatrix worden nu twee matrixen worden gemaakt, matrix1 en matrix2. "
   ]
  },
  {
   "cell_type": "code",
   "execution_count": 143,
   "metadata": {},
   "outputs": [],
   "source": [
    "matrix1 = dictToMatrix(matrixData[\"layer1\"])\n",
    "matrix2 = dictToMatrix(matrixData[\"layer2\"])"
   ]
  },
  {
   "cell_type": "markdown",
   "metadata": {},
   "source": [
    "De jsonfile word ingelezen en word als dict opgeslagen"
   ]
  },
  {
   "cell_type": "code",
   "execution_count": 144,
   "metadata": {},
   "outputs": [],
   "source": [
    "matrixData = jsonToDict(file2)"
   ]
  },
  {
   "cell_type": "markdown",
   "metadata": {},
   "source": [
    "Met behulp van de functie matrixMultiplication word met de twee matricen als input een output gegeven en geprint."
   ]
  },
  {
   "cell_type": "code",
   "execution_count": 145,
   "metadata": {},
   "outputs": [
    {
     "name": "stdout",
     "output_type": "stream",
     "text": [
      "[[ 0.48 -0.29]\n",
      " [ 0.7   0.43]\n",
      " [-0.25 -0.12]\n",
      " [ 0.17 -0.42]\n",
      " [-0.88  0.26]]\n"
     ]
    }
   ],
   "source": [
    "print(matrixMultiplication(matrix1, matrix2))"
   ]
  },
  {
   "cell_type": "markdown",
   "metadata": {},
   "source": [
    "Ter controle gebruik ik numpy om de matrixvermenigvuldiging te doen. Die zou het zelfde resultaat moeten geven als mijn functie."
   ]
  },
  {
   "cell_type": "code",
   "execution_count": 146,
   "metadata": {},
   "outputs": [
    {
     "name": "stdout",
     "output_type": "stream",
     "text": [
      "[[ 0.48 -0.29]\n",
      " [ 0.7   0.43]\n",
      " [-0.25 -0.12]\n",
      " [ 0.17 -0.42]\n",
      " [-0.88  0.26]]\n"
     ]
    }
   ],
   "source": [
    "print(np.dot(matrix1,matrix2))"
   ]
  },
  {
   "cell_type": "markdown",
   "metadata": {},
   "source": [
    "Hieronder nogmaals de volledige code:"
   ]
  },
  {
   "cell_type": "code",
   "execution_count": 134,
   "metadata": {
    "scrolled": true
   },
   "outputs": [
    {
     "name": "stdout",
     "output_type": "stream",
     "text": [
      "[[ 0.38  0.01]\n",
      " [ 0.7   0.43]\n",
      " [ 0.25  0.08]\n",
      " [ 0.17 -0.42]\n",
      " [-0.88  0.26]]\n",
      "\n",
      "[[ 0.38  0.01]\n",
      " [ 0.7   0.43]\n",
      " [ 0.25  0.08]\n",
      " [ 0.17 -0.42]\n",
      " [-0.88  0.26]]\n"
     ]
    }
   ],
   "source": [
    "import numpy as np\n",
    "import json\n",
    "\n",
    "# variable voor json filenaam word aangemaakt\n",
    "file2 = \"example-2layer.json\"\n",
    "\n",
    "def jsonToDict(filename):\n",
    "#   file word geopent gelezen en in een dict gezet, de dict word gereturnt\n",
    "    file = open(filename)\n",
    "    j = file.read()\n",
    "    dJ = json.loads(j)\n",
    "    file.close()\n",
    "    return dJ\n",
    "\n",
    "def dictToMatrix(jD):\n",
    "    # de dict word uitgelezen en een matrix word gereturnt\n",
    "    mString = \"\"\n",
    "    size_out = int(jD[\"size_out\"])\n",
    "    size_in = int(jD[\"size_in\"])\n",
    "    \n",
    "#   met behulp van size_out en size_in word er door de dict geloopt om de juiste aantal waardes te krijgen\n",
    "    i = 1\n",
    "    while i < size_in+1:\n",
    "        j = 1\n",
    "        while j < size_out+1:\n",
    "#           als er een waarde is word die in de matrix opgeslagen\n",
    "            try:\n",
    "                n = jD[\"weights\"][str(i)][str(j)]\n",
    "#           als er geen waarde is wordt er een random getal tussen -1 en 1 opgeslagen\n",
    "            except:\n",
    "                n = np.random.randint(-1, high=1, dtype=int)\n",
    "            mString += str(n) + \" \"\n",
    "            j += 1\n",
    "        mString += \";\"\n",
    "        i += 1\n",
    "    mString = mString[:-1]\n",
    "    \n",
    "#   met gebruik van de aangemaakte string word met numpy een matrix aangemaakt \n",
    "    matrix = np.matrix(mString)\n",
    "    return matrix\n",
    "\n",
    "def matrixMultiplication(matrixA, matrixB):\n",
    "        matrixC = np.zeros((matrixA.shape[0],matrixB.shape[1]))\n",
    "                              \n",
    "        if (matrixA.shape[1] != matrixB.shape[0]):\n",
    "            print(\"Length k and length n are not the same.\")\n",
    "            return matrixC\n",
    "\n",
    "        for i in range(matrixA.shape[0]):\n",
    "            for j in range(matrixB.shape[1]):\n",
    "                for k in range(matrixA.shape[1]):\n",
    "                    matrixC[i,j] = matrixC[i,j] + (matrixA[i,k] * matrixB[k,j])\n",
    "        return  matrixC\n",
    "\n",
    "# de jsonfile word ingelezen en word als dict opgeslagen\n",
    "matrixData = jsonToDict(file2)\n",
    "\n",
    "# de twee matrixen worden aangemaakt\n",
    "matrix1 = dictToMatrix(matrixData[\"layer1\"])\n",
    "matrix2 = dictToMatrix(matrixData[\"layer2\"])\n",
    "\n",
    "# de output van de matrix multiplication van de twee matrixen word geprint\n",
    "print(matrixMultiplication(matrix1, matrix2))\n",
    "print()\n",
    "# controle met numpy\n",
    "print(np.dot(matrix1,matrix2))\n"
   ]
  }
 ],
 "metadata": {
  "kernelspec": {
   "display_name": "Python 3",
   "language": "python",
   "name": "python3"
  },
  "language_info": {
   "codemirror_mode": {
    "name": "ipython",
    "version": 3
   },
   "file_extension": ".py",
   "mimetype": "text/x-python",
   "name": "python",
   "nbconvert_exporter": "python",
   "pygments_lexer": "ipython3",
   "version": "3.7.3"
  }
 },
 "nbformat": 4,
 "nbformat_minor": 2
}
