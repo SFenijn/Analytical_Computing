{
 "cells": [
  {
   "cell_type": "markdown",
   "metadata": {},
   "source": [
    "## Importeren van de data\n",
    "\n",
    "Als eerste moeten we de data importen. We openen daarvoor de csv file en zetten de data in verschillende variabelen:\n",
    "\n",
    "* columns is een dictionary die de naam van de kolom vertaalt naar de index voor de data array\n",
    "* rows is een list van elke rij die als een list is opgeslagen\n",
    "* data is een dictionary van de index van de kolom naar een lijst van data voor die kolom"
   ]
  },
  {
   "cell_type": "code",
   "execution_count": 24,
   "metadata": {},
   "outputs": [
    {
     "name": "stdout",
     "output_type": "stream",
     "text": [
      "Processed 226 lines.\n"
     ]
    }
   ],
   "source": [
    "import csv\n",
    "import math\n",
    "import numpy as np\n",
    "import matplotlib.pyplot as plt\n",
    "\n",
    "# keuze uit gemeente\n",
    "placeHolder = 'utrecht.csv'\n",
    "filename = 'sluis.csv'\n",
    "\n",
    "columns = {}\n",
    "rows = []\n",
    "data = {}\n",
    "\n",
    "# hulp functie om te kijken of de waarde een integer is\n",
    "def is_number(s):\n",
    "    try:\n",
    "        int(s)\n",
    "        return True\n",
    "    except ValueError:\n",
    "        return False\n",
    "with open(filename) as csv_file:\n",
    "    csv_reader = csv.reader(csv_file, delimiter=';')\n",
    "    line_count = 0\n",
    "    for row in csv_reader:\n",
    "        # anders reageren als het de eerste regel is, dat zijn namelijk de kolomnamen\n",
    "        if line_count == 0:\n",
    "            line_count += 1\n",
    "            i = 0\n",
    "            for c in row:\n",
    "                columns[c] = i\n",
    "                data[i] = []\n",
    "                i += 1\n",
    "        else:\n",
    "            line_count += 1\n",
    "            # alleen importeren als het maanddata is, niet de cummulatieven over een jaar\n",
    "            if 'JJ00' in row[columns['Perioden']]:\n",
    "                pass\n",
    "            else:\n",
    "                rows.append(row)\n",
    "                i = 0\n",
    "                for c in row:\n",
    "                    if is_number(c):\n",
    "                        data[i].append(int(c))\n",
    "                    else:\n",
    "                        data[i].append(c)\n",
    "                    i = i+1\n",
    "    print(f'Processed {line_count} lines.')"
   ]
  },
  {
   "cell_type": "markdown",
   "metadata": {},
   "source": [
    "Hier printen we de namen van de kolommen zodat je kan zien welke data er in het bestand zit."
   ]
  },
  {
   "cell_type": "code",
   "execution_count": 25,
   "metadata": {},
   "outputs": [
    {
     "name": "stdout",
     "output_type": "stream",
     "text": [
      "{'ï»¿\"ID\"': 0, 'RegioS': 1, 'Perioden': 2, 'BevolkingAanHetBeginVanDePeriode_1': 3, 'LevendGeborenKinderen_2': 4, 'Overledenen_3': 5, 'TotaleVestiging_4': 6, 'VestigingVanuitEenAndereGemeente_5': 7, 'Immigratie_6': 8, 'TotaalVertrekInclAdmCorrecties_7': 9, 'VertrekNaarAndereGemeente_8': 10, 'EmigratieInclusiefAdmCorrecties_9': 11, 'OverigeCorrecties_10': 12, 'Bevolkingsgroei_11': 13, 'BevolkingsgroeiRelatief_12': 14, 'BevolkingsgroeiSinds1Januari_13': 15, 'BevolkingsgroeiSinds1JanuariRela_14': 16, 'BevolkingAanHetEindeVanDePeriode_15': 17}\n"
     ]
    }
   ],
   "source": [
    "print(columns)"
   ]
  },
  {
   "cell_type": "markdown",
   "metadata": {},
   "source": [
    "## Verwerken van de data\n",
    "\n",
    "Hier printen we de data voor alle maanden van het laatste jaar van het vertrek uit de gemeente."
   ]
  },
  {
   "cell_type": "code",
   "execution_count": 26,
   "metadata": {},
   "outputs": [
    {
     "name": "stdout",
     "output_type": "stream",
     "text": [
      "[37, 25, 43, 41, 69, 62, 53, 46, 33, 64, 37, 53]\n"
     ]
    }
   ],
   "source": [
    "print(data[columns['VertrekNaarAndereGemeente_8']][-13:-1])"
   ]
  },
  {
   "cell_type": "code",
   "execution_count": 27,
   "metadata": {},
   "outputs": [
    {
     "data": {
      "image/png": "[encoded data removed]",
      "text/plain": [
       "<Figure size 432x288 with 1 Axes>"
      ]
     },
     "metadata": {
      "needs_background": "light"
     },
     "output_type": "display_data"
    }
   ],
   "source": [
    "plt.plot( data[columns['Perioden']][-13:-1], data[columns['VertrekNaarAndereGemeente_8']][-13:-1], 'ro')\n",
    "plt.xticks(rotation=90)\n",
    "plt.show()"
   ]
  },
  {
   "cell_type": "markdown",
   "metadata": {},
   "source": [
    "Functies voor vinden gemiddelde, mediaan en standaard deviatie."
   ]
  },
  {
   "cell_type": "code",
   "execution_count": 28,
   "metadata": {},
   "outputs": [],
   "source": [
    "def findMean(list):\n",
    "    total = 0\n",
    "    size = 0\n",
    "    for i in list:\n",
    "        total += i\n",
    "        size += 1\n",
    "    return total / size"
   ]
  },
  {
   "cell_type": "code",
   "execution_count": 29,
   "metadata": {},
   "outputs": [],
   "source": [
    "def findMedian(list):\n",
    "    list.sort()\n",
    "    if len(list) % 2 != 0:\n",
    "        return list[int((len(list)/2) - 1.5)]\n",
    "    else:\n",
    "        return list[int((((len(list)/2)) + ((len(list)/2)-1)) / 2)]"
   ]
  },
  {
   "cell_type": "code",
   "execution_count": 30,
   "metadata": {},
   "outputs": [],
   "source": [
    "def findVarians(list):\n",
    "    mean = findMean(list)\n",
    "    total = 0\n",
    "    count = 0\n",
    "    for i in list:\n",
    "        total += (i - mean) * (i - mean)\n",
    "        count += 1\n",
    "    return total / count"
   ]
  },
  {
   "cell_type": "code",
   "execution_count": 31,
   "metadata": {},
   "outputs": [],
   "source": [
    "def findStandardDeviation(list):\n",
    "    varians = findVarians(list)\n",
    "    return math.sqrt(varians)"
   ]
  },
  {
   "cell_type": "code",
   "execution_count": 32,
   "metadata": {},
   "outputs": [],
   "source": [
    "def printInfo(info):\n",
    "    print(\"Gemiddelde: \" + str(findMean(info)))\n",
    "    print(\"mediaan: \" + str(findMedian(info)))\n",
    "    print(\"standaard deviatie: \" + str(findStandardDeviation(info)))"
   ]
  },
  {
   "cell_type": "code",
   "execution_count": 33,
   "metadata": {},
   "outputs": [
    {
     "name": "stdout",
     "output_type": "stream",
     "text": [
      "Gemiddelde: 46.916666666666664\n",
      "mediaan: 43\n",
      "standaard deviatie: 12.919354559041338\n"
     ]
    }
   ],
   "source": [
    "printInfo(data[columns['VertrekNaarAndereGemeente_8']][-13:-1])"
   ]
  },
  {
   "cell_type": "code",
   "execution_count": 34,
   "metadata": {},
   "outputs": [
    {
     "name": "stdout",
     "output_type": "stream",
     "text": [
      "Overledenen_3:\n"
     ]
    },
    {
     "data": {
      "image/png": "[encoded data removed]",
      "text/plain": [
       "<Figure size 432x288 with 1 Axes>"
      ]
     },
     "metadata": {
      "needs_background": "light"
     },
     "output_type": "display_data"
    },
    {
     "name": "stdout",
     "output_type": "stream",
     "text": [
      "Gemiddelde: 21.5\n",
      "mediaan: 21\n",
      "standaard deviatie: 6.264982043070834\n"
     ]
    }
   ],
   "source": [
    "print(\"Overledenen_3:\")\n",
    "plt.plot(data[columns['Perioden']][-13:-1], data[columns['Overledenen_3']][-13:-1], 'ro')\n",
    "plt.xticks(rotation=90)\n",
    "plt.show()\n",
    "printInfo(data[columns['Overledenen_3']][-13:-1])"
   ]
  },
  {
   "cell_type": "code",
   "execution_count": 35,
   "metadata": {
    "scrolled": false
   },
   "outputs": [
    {
     "name": "stdout",
     "output_type": "stream",
     "text": [
      "BevolkingAanHetEindeVanDePeriode_15:\n"
     ]
    },
    {
     "data": {
      "image/png": "[encoded data removed]",
      "text/plain": [
       "<Figure size 432x288 with 1 Axes>"
      ]
     },
     "metadata": {
      "needs_background": "light"
     },
     "output_type": "display_data"
    },
    {
     "name": "stdout",
     "output_type": "stream",
     "text": [
      "Gemiddelde: 23429.333333333332\n",
      "mediaan: 23410\n",
      "standaard deviatie: 81.56422145905778\n"
     ]
    }
   ],
   "source": [
    "print(\"BevolkingAanHetEindeVanDePeriode_15:\")\n",
    "plt.plot(data[columns['Perioden']][-13:-1], data[columns['BevolkingAanHetEindeVanDePeriode_15']][-13:-1], 'ro')\n",
    "plt.xticks(rotation=90)\n",
    "plt.show()\n",
    "printInfo(data[columns['BevolkingAanHetEindeVanDePeriode_15']][-13:-1])"
   ]
  },
  {
   "cell_type": "code",
   "execution_count": 36,
   "metadata": {},
   "outputs": [
    {
     "name": "stdout",
     "output_type": "stream",
     "text": [
      "VestigingVanuitEenAndereGemeente_5:\n"
     ]
    },
    {
     "data": {
      "image/png": "[encoded data removed]",
      "text/plain": [
       "<Figure size 432x288 with 1 Axes>"
      ]
     },
     "metadata": {
      "needs_background": "light"
     },
     "output_type": "display_data"
    },
    {
     "name": "stdout",
     "output_type": "stream",
     "text": [
      "Gemiddelde: 37.5\n",
      "mediaan: 37\n",
      "standaard deviatie: 6.34428877022476\n"
     ]
    }
   ],
   "source": [
    "print(\"VestigingVanuitEenAndereGemeente_5:\")\n",
    "plt.plot(data[columns['Perioden']][-13:-1], data[columns['VestigingVanuitEenAndereGemeente_5']][-13:-1], 'ro')\n",
    "plt.xticks(rotation=90)\n",
    "plt.show()\n",
    "printInfo(data[columns['VestigingVanuitEenAndereGemeente_5']][-13:-1])"
   ]
  },
  {
   "cell_type": "markdown",
   "metadata": {},
   "source": [
    "We gaan nu een trendlijn maken voor de informatie over bevolking van de gemeente aan het einde van de Periode. Dit ga ik doen met behul van liniare regressie."
   ]
  },
  {
   "cell_type": "markdown",
   "metadata": {},
   "source": [
    "Daarvoor heb ik een aantal formules nodig."
   ]
  },
  {
   "cell_type": "markdown",
   "metadata": {},
   "source": [
    "De formule voor de lijn:"
   ]
  },
  {
   "cell_type": "markdown",
   "metadata": {},
   "source": [
    "\\begin{equation}\n",
    "y = mx+b\n",
    "\\end{equation}"
   ]
  },
  {
   "cell_type": "markdown",
   "metadata": {},
   "source": [
    "We weten de x maar om y te berekenen moeten we ook de m en de b weten. Omdaar achter te komen gebruiken we de onderstaande formules."
   ]
  },
  {
   "cell_type": "markdown",
   "metadata": {},
   "source": [
    "Formule voor mean van x:"
   ]
  },
  {
   "cell_type": "markdown",
   "metadata": {},
   "source": [
    "\\begin{equation}\n",
    "\\bar{x} = \\frac{1}{n}\\sum_{i=1}^n x_i\n",
    "\\end{equation}"
   ]
  },
  {
   "cell_type": "markdown",
   "metadata": {},
   "source": [
    "Formule voor mean van y:"
   ]
  },
  {
   "cell_type": "markdown",
   "metadata": {},
   "source": [
    "\\begin{equation}\n",
    "\\bar{y} = \\frac{1}{n}\\sum_{i=1}^n y_i\n",
    "\\end{equation}"
   ]
  },
  {
   "cell_type": "markdown",
   "metadata": {},
   "source": [
    "Formule voor mean van xy:"
   ]
  },
  {
   "cell_type": "markdown",
   "metadata": {},
   "source": [
    "\\begin{equation}\n",
    "\\bar{xy} = \\frac{1}{n}\\sum_{i=1}^n x_iy_i\n",
    "\\end{equation}"
   ]
  },
  {
   "cell_type": "markdown",
   "metadata": {},
   "source": [
    "Formule voor mean x^2:"
   ]
  },
  {
   "cell_type": "markdown",
   "metadata": {},
   "source": [
    "\\begin{equation}\n",
    "\\bar{x}^2 = \\frac{\\sum\\limits_{i=1}^{n}x_i^2} {n}\n",
    "\\end{equation}"
   ]
  },
  {
   "cell_type": "markdown",
   "metadata": {},
   "source": [
    "Formule voor m:"
   ]
  },
  {
   "cell_type": "markdown",
   "metadata": {},
   "source": [
    "\\begin{equation}\n",
    "m = \\frac{\\bar{x}\\bar{y}-\\bar{xy}}{(\\bar{x})^2-\\bar{x}^2}\n",
    "\\end{equation}"
   ]
  },
  {
   "cell_type": "markdown",
   "metadata": {},
   "source": [
    "Formule voor b:"
   ]
  },
  {
   "cell_type": "markdown",
   "metadata": {},
   "source": [
    "\\begin{equation}\n",
    "b=\\bar{y}-m\\bar{x}\n",
    "\\end{equation}"
   ]
  },
  {
   "cell_type": "markdown",
   "metadata": {},
   "source": [
    "Nu we de formules weten die we nodig hebben weten. Kunnen we python functies maken om die te bereken. Hierbij gaan we ervanuit dat elke x een y waarde heeft. De sommige funcies hebben we al gemaakt. We hebben nog 4 functies nodig, die voor meanXY,  meanX^2 m, b en y."
   ]
  },
  {
   "cell_type": "code",
   "execution_count": 37,
   "metadata": {},
   "outputs": [],
   "source": [
    "def getXList(list):\n",
    "    x = []\n",
    "    num = 1\n",
    "    for i in list:\n",
    "        x.append(num)\n",
    "        num += 1\n",
    "    return x"
   ]
  },
  {
   "cell_type": "code",
   "execution_count": 38,
   "metadata": {},
   "outputs": [],
   "source": [
    "def findMeanSquerd(list):\n",
    "    total = 0\n",
    "    size = 0\n",
    "    for i in list:\n",
    "        total += i * i\n",
    "        size += 1\n",
    "    return total / size"
   ]
  },
  {
   "cell_type": "code",
   "execution_count": 39,
   "metadata": {},
   "outputs": [],
   "source": [
    "def findMeanXY(listX, listY):\n",
    "    total = 0\n",
    "    size = 0\n",
    "    for i in range(len(listX)):\n",
    "        total += listX[i] * listY[i]\n",
    "        size += 1\n",
    "    return total / size  "
   ]
  },
  {
   "cell_type": "code",
   "execution_count": 40,
   "metadata": {},
   "outputs": [],
   "source": [
    "def findM(listX, listY):\n",
    "    meanX = findMean(listX)\n",
    "    meanY = findMean(listY)\n",
    "    meanXY = findMeanXY(listX, listY)\n",
    "    meanXSquard = findMeanSquerd(listX)\n",
    "    squerdMeanX = meanX * meanX \n",
    "    return ((meanX * meanY) - meanXY) / (squerdMeanX - meanXSquard)"
   ]
  },
  {
   "cell_type": "code",
   "execution_count": 41,
   "metadata": {},
   "outputs": [],
   "source": [
    "def findB(listX, listY):\n",
    "    meanX = findMean(listX)\n",
    "    meanY = findMean(listY)\n",
    "    m = findM(listX, listY)\n",
    "    return meanY - (m * meanX)"
   ]
  },
  {
   "cell_type": "code",
   "execution_count": 42,
   "metadata": {},
   "outputs": [],
   "source": [
    "def trendLine(listX, listY):\n",
    "    y = []\n",
    "    for i in range(len(listX)):\n",
    "        y.append((findM(listX, listY) * listX[i]) + findB(listX, listY))\n",
    "    return y"
   ]
  },
  {
   "cell_type": "code",
   "execution_count": 43,
   "metadata": {
    "scrolled": false
   },
   "outputs": [
    {
     "name": "stdout",
     "output_type": "stream",
     "text": [
      "BevolkingAanHetEindeVanDePeriode_15\n",
      "Met trendlijn:\n",
      "[1, 2, 3, 4, 5, 6, 7, 8, 9, 10, 11, 12]\n",
      "[23507, 23524, 23517, 23526, 23487, 23448, 23410, 23406, 23391, 23323, 23318, 23295]\n"
     ]
    },
    {
     "data": {
      "image/png": "[encoded data removed]",
      "text/plain": [
       "<Figure size 432x288 with 1 Axes>"
      ]
     },
     "metadata": {
      "needs_background": "light"
     },
     "output_type": "display_data"
    }
   ],
   "source": [
    "print(\"BevolkingAanHetEindeVanDePeriode_15\\nMet trendlijn:\")\n",
    "xlist = getXList(data[columns['BevolkingAanHetEindeVanDePeriode_15']][-13:-1])\n",
    "print(xlist)\n",
    "print(data[columns['BevolkingAanHetEindeVanDePeriode_15']][-13:-1])\n",
    "plt.plot(data[columns['Perioden']][-13:-1], data[columns['BevolkingAanHetEindeVanDePeriode_15']][-13:-1], 'ro')\n",
    "plt.xticks(rotation=90)\n",
    "trend = trendLine(xlist, data[columns['BevolkingAanHetEindeVanDePeriode_15']][-13:-1])\n",
    "plt.plot(xlist, trend)\n",
    "plt.show()"
   ]
  },
  {
   "cell_type": "markdown",
   "metadata": {},
   "source": [
    "We hebben nu een trendline voor de data. Hieronder maak ik de trendline met behulp van numpy om te controleren of hij klopt."
   ]
  },
  {
   "cell_type": "code",
   "execution_count": 44,
   "metadata": {},
   "outputs": [
    {
     "name": "stdout",
     "output_type": "stream",
     "text": [
      "BevolkingAanHetEindeVanDePeriode_15\n",
      "Met trendlijn:\n"
     ]
    },
    {
     "data": {
      "image/png": "[encoded data removed]",
      "text/plain": [
       "<Figure size 432x288 with 1 Axes>"
      ]
     },
     "metadata": {
      "needs_background": "light"
     },
     "output_type": "display_data"
    }
   ],
   "source": [
    "print(\"BevolkingAanHetEindeVanDePeriode_15\\nMet trendlijn:\")\n",
    "xlist = getXList(data[columns['BevolkingAanHetEindeVanDePeriode_15']][-13:-1])\n",
    "plt.plot(data[columns['Perioden']][-13:-1], data[columns['BevolkingAanHetEindeVanDePeriode_15']][-13:-1], 'ro')\n",
    "plt.xticks(rotation=90)\n",
    "\n",
    "z = np.polyfit(xlist, data[columns['BevolkingAanHetEindeVanDePeriode_15']][-13:-1], 1)\n",
    "p = np.poly1d(z)\n",
    "plt.plot(xlist,p(xlist),\"r--\")\n",
    "plt.show()"
   ]
  },
  {
   "cell_type": "markdown",
   "metadata": {},
   "source": [
    "Zo te zien is mijn trendlijn correct. Nu kunnen we de trendlijn gebruiken om te voorspellen hoeveel inwoners de gemeente heeft aan het einde van de volgende maand, die niet op de grafiek staat. Daarvoor maken we een nieuwe functie waar je de x meegeeft en de prognose voor de y terug krijgt."
   ]
  },
  {
   "cell_type": "code",
   "execution_count": 45,
   "metadata": {},
   "outputs": [],
   "source": [
    "def findY(x, listX, listY):\n",
    "    y = (findM(listX, listY) * x) + findB(listX, listY)\n",
    "    return y"
   ]
  },
  {
   "cell_type": "markdown",
   "metadata": {},
   "source": [
    "Om de y voor april te krijgen moeten we x = 13 doen."
   ]
  },
  {
   "cell_type": "code",
   "execution_count": 46,
   "metadata": {},
   "outputs": [
    {
     "name": "stdout",
     "output_type": "stream",
     "text": [
      "Verwacht aantal inwonders eind van de volgende maand:\n",
      "23281.606060606067\n"
     ]
    }
   ],
   "source": [
    "print(\"Verwacht aantal inwonders eind van de volgende maand:\")\n",
    "print(findY(13, xlist, data[columns['BevolkingAanHetEindeVanDePeriode_15']][-13:-1]))"
   ]
  },
  {
   "cell_type": "markdown",
   "metadata": {},
   "source": [
    "Nu kunnen we dus voorspellingen doen aan de hand van de gegeven data."
   ]
  },
  {
   "cell_type": "code",
   "execution_count": null,
   "metadata": {},
   "outputs": [],
   "source": []
  }
 ],
 "metadata": {
  "kernelspec": {
   "display_name": "Python 3",
   "language": "python",
   "name": "python3"
  },
  "language_info": {
   "codemirror_mode": {
    "name": "ipython",
    "version": 3
   },
   "file_extension": ".py",
   "mimetype": "text/x-python",
   "name": "python",
   "nbconvert_exporter": "python",
   "pygments_lexer": "ipython3",
   "version": "3.7.3"
  }
 },
 "nbformat": 4,
 "nbformat_minor": 2
}
